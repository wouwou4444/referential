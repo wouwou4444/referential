{
 "cells": [
  {
   "cell_type": "code",
   "execution_count": 1,
   "metadata": {},
   "outputs": [],
   "source": [
    "%load_ext autoreload\n",
    "%autoreload 2"
   ]
  },
  {
   "cell_type": "code",
   "execution_count": 2,
   "metadata": {},
   "outputs": [],
   "source": [
    "import os"
   ]
  },
  {
   "cell_type": "code",
   "execution_count": 3,
   "metadata": {},
   "outputs": [],
   "source": [
    "import pandas as pd"
   ]
  },
  {
   "cell_type": "code",
   "execution_count": 4,
   "metadata": {},
   "outputs": [
    {
     "data": {
      "text/html": [
       "<div>\n",
       "<style scoped>\n",
       "    .dataframe tbody tr th:only-of-type {\n",
       "        vertical-align: middle;\n",
       "    }\n",
       "\n",
       "    .dataframe tbody tr th {\n",
       "        vertical-align: top;\n",
       "    }\n",
       "\n",
       "    .dataframe thead th {\n",
       "        text-align: right;\n",
       "    }\n",
       "</style>\n",
       "<table border=\"1\" class=\"dataframe\">\n",
       "  <thead>\n",
       "    <tr style=\"text-align: right;\">\n",
       "      <th></th>\n",
       "      <th>id</th>\n",
       "      <th>summary</th>\n",
       "    </tr>\n",
       "  </thead>\n",
       "  <tbody>\n",
       "    <tr>\n",
       "      <th>0</th>\n",
       "      <td>RITM001</td>\n",
       "      <td>test</td>\n",
       "    </tr>\n",
       "    <tr>\n",
       "      <th>1</th>\n",
       "      <td>RITM002</td>\n",
       "      <td>create account</td>\n",
       "    </tr>\n",
       "    <tr>\n",
       "      <th>2</th>\n",
       "      <td>RITM003</td>\n",
       "      <td>reset password</td>\n",
       "    </tr>\n",
       "    <tr>\n",
       "      <th>3</th>\n",
       "      <td>RITM005</td>\n",
       "      <td>create database</td>\n",
       "    </tr>\n",
       "  </tbody>\n",
       "</table>\n",
       "</div>"
      ],
      "text/plain": [
       "        id          summary\n",
       "0  RITM001             test\n",
       "1  RITM002   create account\n",
       "2  RITM003   reset password\n",
       "3  RITM005  create database"
      ]
     },
     "execution_count": 4,
     "metadata": {},
     "output_type": "execute_result"
    }
   ],
   "source": [
    "pd.DataFrame({\n",
    "    'id': [ \"RITM001\", \"RITM002\", \"RITM003\", \"RITM005\"],\n",
    "    'summary': [\"test\", \"create account\", \"reset password\", \"create database\"]\n",
    "})"
   ]
  },
  {
   "cell_type": "code",
   "execution_count": 5,
   "metadata": {},
   "outputs": [
    {
     "data": {
      "text/plain": [
       "''"
      ]
     },
     "execution_count": 5,
     "metadata": {},
     "output_type": "execute_result"
    }
   ],
   "source": [
    "os.path.dirname(__name__)"
   ]
  },
  {
   "cell_type": "code",
   "execution_count": 6,
   "metadata": {},
   "outputs": [
    {
     "data": {
      "text/plain": [
       "'__main__'"
      ]
     },
     "execution_count": 6,
     "metadata": {},
     "output_type": "execute_result"
    }
   ],
   "source": [
    "__name__"
   ]
  },
  {
   "cell_type": "code",
   "execution_count": 7,
   "metadata": {},
   "outputs": [
    {
     "data": {
      "text/plain": [
       "'D:\\\\Users\\\\valer_r0iadai\\\\OneDrive\\\\projects\\\\projects\\\\referential'"
      ]
     },
     "execution_count": 7,
     "metadata": {},
     "output_type": "execute_result"
    }
   ],
   "source": [
    "os.path.abspath(os.path.dirname(__name__))"
   ]
  },
  {
   "cell_type": "markdown",
   "metadata": {},
   "source": [
    "# Referential and Categories "
   ]
  },
  {
   "cell_type": "code",
   "execution_count": 98,
   "metadata": {},
   "outputs": [],
   "source": [
    "from referential.category import Category"
   ]
  },
  {
   "cell_type": "code",
   "execution_count": 99,
   "metadata": {},
   "outputs": [
    {
     "name": "stdout",
     "output_type": "stream",
     "text": [
      "2020-04-15 12:09:51.618668:INFO:Creating root node 'space management','574ad643-021e-4a5c-a7f4-cdb9f3a70682'\n"
     ]
    },
    {
     "data": {
      "text/plain": [
       "Category: cid:574ad643-021e-4a5c-a7f4-cdb9f3a70682, name:space management, hash:c6d39d77756b49f989ac40924fc0d6ba, depth:0"
      ]
     },
     "execution_count": 99,
     "metadata": {},
     "output_type": "execute_result"
    }
   ],
   "source": [
    "Category(name = \"space management\")"
   ]
  },
  {
   "cell_type": "code",
   "execution_count": 100,
   "metadata": {},
   "outputs": [
    {
     "name": "stdout",
     "output_type": "stream",
     "text": [
      "2020-04-15 12:09:53.005738:INFO:Creating root node 'space management','0f959746-65a2-4791-8e2a-30ac3d7eeac3'\n",
      "2020-04-15 12:09:53.005738:INFO:Creating root node 'space management','ae7f56f2-a87a-4389-aceb-1b30ada017c2'\n"
     ]
    },
    {
     "data": {
      "text/plain": [
       "False"
      ]
     },
     "execution_count": 100,
     "metadata": {},
     "output_type": "execute_result"
    }
   ],
   "source": [
    "cat1 = Category(name = \"space management\", description= \"test space mnt\")\n",
    "cat2 = Category(name = \"space management\")\n",
    "cat1 == cat2"
   ]
  },
  {
   "cell_type": "code",
   "execution_count": 101,
   "metadata": {},
   "outputs": [
    {
     "data": {
      "text/plain": [
       "(True, 'c6d39d77756b49f989ac40924fc0d6ba', 'c6d39d77756b49f989ac40924fc0d6ba')"
      ]
     },
     "execution_count": 101,
     "metadata": {},
     "output_type": "execute_result"
    }
   ],
   "source": [
    "cat1.digest == cat2.digest, cat1.digest, cat2.digest"
   ]
  },
  {
   "cell_type": "code",
   "execution_count": 102,
   "metadata": {},
   "outputs": [
    {
     "data": {
      "text/plain": [
       "('0f959746-65a2-4791-8e2a-30ac3d7eeac3',\n",
       " 'ae7f56f2-a87a-4389-aceb-1b30ada017c2')"
      ]
     },
     "execution_count": 102,
     "metadata": {},
     "output_type": "execute_result"
    }
   ],
   "source": [
    "cat1.category_id, cat2.category_id"
   ]
  },
  {
   "cell_type": "code",
   "execution_count": 103,
   "metadata": {},
   "outputs": [
    {
     "data": {
      "text/plain": [
       "'0f959746-65a2-4791-8e2a-30ac3d7eeac3'"
      ]
     },
     "execution_count": 103,
     "metadata": {},
     "output_type": "execute_result"
    }
   ],
   "source": [
    "str(cat1.category_id)"
   ]
  },
  {
   "cell_type": "code",
   "execution_count": 104,
   "metadata": {},
   "outputs": [
    {
     "data": {
      "text/plain": [
       "[{'category_id': '0f959746-65a2-4791-8e2a-30ac3d7eeac3',\n",
       "  'category_name': 'space management',\n",
       "  'description': 'test space mnt',\n",
       "  'depth': 0,\n",
       "  'parent_id': '0f959746-65a2-4791-8e2a-30ac3d7eeac3'}]"
      ]
     },
     "execution_count": 104,
     "metadata": {},
     "output_type": "execute_result"
    }
   ],
   "source": [
    "cat1.export()"
   ]
  },
  {
   "cell_type": "code",
   "execution_count": 15,
   "metadata": {},
   "outputs": [
    {
     "data": {
      "text/plain": [
       "('32b5b09d-d43c-4b02-b5e5-7c9a3a2fd495',\n",
       " '32b5b09d-d43c-4b02-b5e5-7c9a3a2fd495')"
      ]
     },
     "execution_count": 15,
     "metadata": {},
     "output_type": "execute_result"
    }
   ],
   "source": [
    "cat1.parent_id, cat1.category_id"
   ]
  },
  {
   "cell_type": "markdown",
   "metadata": {},
   "source": [
    "# Build referential with several layers and nodes"
   ]
  },
  {
   "cell_type": "code",
   "execution_count": 180,
   "metadata": {},
   "outputs": [
    {
     "data": {
      "text/plain": [
       "[1, 3, 7]"
      ]
     },
     "execution_count": 180,
     "metadata": {},
     "output_type": "execute_result"
    }
   ],
   "source": [
    "list(num for num in [1, 3, 7].__iter__())"
   ]
  },
  {
   "cell_type": "code",
   "execution_count": 181,
   "metadata": {},
   "outputs": [],
   "source": [
    "from referential.category import Category"
   ]
  },
  {
   "cell_type": "code",
   "execution_count": 182,
   "metadata": {},
   "outputs": [
    {
     "name": "stdout",
     "output_type": "stream",
     "text": [
      "2020-04-15 15:56:21.281620:INFO:Creating root node 'incidents','759f7d54-b07b-4c94-a83e-75774ee9190e'\n"
     ]
    }
   ],
   "source": [
    "cat1 = Category(name = \"incidents\", description= \"INC for Team\")"
   ]
  },
  {
   "cell_type": "code",
   "execution_count": 183,
   "metadata": {},
   "outputs": [
    {
     "name": "stdout",
     "output_type": "stream",
     "text": [
      "2020-04-15 15:56:22.496048:INFO:Creating child node 'user management','b068ec34-f582-4bbc-bc4d-abf4b46dc1cc' with parent '759f7d54-b07b-4c94-a83e-75774ee9190e'\n",
      "2020-04-15 15:56:22.496048:INFO:Added node 'user management', 'b068ec34-f582-4bbc-bc4d-abf4b46dc1cc'\n",
      "2020-04-15 15:56:22.497042:INFO:Creating child node 'space management','f882d357-abf4-4dd4-84fe-792102e8c80f' with parent '759f7d54-b07b-4c94-a83e-75774ee9190e'\n",
      "2020-04-15 15:56:22.497042:INFO:Added node 'space management', 'f882d357-abf4-4dd4-84fe-792102e8c80f'\n",
      "2020-04-15 15:56:22.497042:INFO:Creating child node 'asset management','22442b4a-14e5-41ec-95ee-e146cba8ab99' with parent '759f7d54-b07b-4c94-a83e-75774ee9190e'\n",
      "2020-04-15 15:56:22.497042:INFO:Added node 'asset management', '22442b4a-14e5-41ec-95ee-e146cba8ab99'\n"
     ]
    },
    {
     "data": {
      "text/plain": [
       "Category: cid:22442b4a-14e5-41ec-95ee-e146cba8ab99, name:asset management, hash:e97b0635ae7b4a43f7d7d4a690215e6f, depth:1"
      ]
     },
     "execution_count": 183,
     "metadata": {},
     "output_type": "execute_result"
    }
   ],
   "source": [
    "cat1.add(\"user management\", \"user\")\n",
    "cat1.add(\"space management\", \"space\")\n",
    "cat1.add(\"asset management\", \"asset\")"
   ]
  },
  {
   "cell_type": "code",
   "execution_count": 184,
   "metadata": {},
   "outputs": [
    {
     "name": "stdout",
     "output_type": "stream",
     "text": [
      "2020-04-15 15:56:24.033344:INFO:inside __iter__\n",
      "2020-04-15 15:56:24.034346:INFO:looping child\n",
      "2020-04-15 15:56:24.035643:INFO:inside __iter__\n",
      "2020-04-15 15:56:24.035643:INFO:looping child\n",
      "2020-04-15 15:56:24.035793:INFO:inside __iter__\n",
      "2020-04-15 15:56:24.035793:INFO:looping child\n",
      "2020-04-15 15:56:24.035793:INFO:inside __iter__\n"
     ]
    },
    {
     "data": {
      "text/plain": [
       "[Category: cid:759f7d54-b07b-4c94-a83e-75774ee9190e, name:incidents, hash:347171b02bf61394ae614eb8db9e056c, depth:0,\n",
       " Category: cid:b068ec34-f582-4bbc-bc4d-abf4b46dc1cc, name:user management, hash:78b18b859c1c14fafdfbcae1c6d27052, depth:1,\n",
       " Category: cid:f882d357-abf4-4dd4-84fe-792102e8c80f, name:space management, hash:c6d39d77756b49f989ac40924fc0d6ba, depth:1,\n",
       " Category: cid:22442b4a-14e5-41ec-95ee-e146cba8ab99, name:asset management, hash:e97b0635ae7b4a43f7d7d4a690215e6f, depth:1]"
      ]
     },
     "execution_count": 184,
     "metadata": {},
     "output_type": "execute_result"
    }
   ],
   "source": [
    "[cat for cat in cat1]"
   ]
  },
  {
   "cell_type": "code",
   "execution_count": 185,
   "metadata": {},
   "outputs": [
    {
     "name": "stdout",
     "output_type": "stream",
     "text": [
      "2020-04-15 15:56:25.553054:INFO:inside __iter__\n",
      "2020-04-15 15:56:25.553054:INFO:looping child\n",
      "2020-04-15 15:56:25.554389:INFO:inside __iter__\n",
      "2020-04-15 15:56:25.555194:INFO:looping child\n",
      "2020-04-15 15:56:25.555386:INFO:inside __iter__\n",
      "2020-04-15 15:56:25.555386:INFO:looping child\n",
      "2020-04-15 15:56:25.556586:INFO:inside __iter__\n"
     ]
    },
    {
     "data": {
      "text/plain": [
       "[{'category_id': '759f7d54-b07b-4c94-a83e-75774ee9190e',\n",
       "  'category_name': 'incidents',\n",
       "  'description': 'INC for Team',\n",
       "  'depth': 0,\n",
       "  'parent_id': '759f7d54-b07b-4c94-a83e-75774ee9190e',\n",
       "  'digest': '347171b02bf61394ae614eb8db9e056c'},\n",
       " {'category_id': 'b068ec34-f582-4bbc-bc4d-abf4b46dc1cc',\n",
       "  'category_name': 'user management',\n",
       "  'description': 'user',\n",
       "  'depth': 1,\n",
       "  'parent_id': '759f7d54-b07b-4c94-a83e-75774ee9190e',\n",
       "  'digest': '78b18b859c1c14fafdfbcae1c6d27052'},\n",
       " {'category_id': 'f882d357-abf4-4dd4-84fe-792102e8c80f',\n",
       "  'category_name': 'space management',\n",
       "  'description': 'space',\n",
       "  'depth': 1,\n",
       "  'parent_id': '759f7d54-b07b-4c94-a83e-75774ee9190e',\n",
       "  'digest': 'c6d39d77756b49f989ac40924fc0d6ba'},\n",
       " {'category_id': '22442b4a-14e5-41ec-95ee-e146cba8ab99',\n",
       "  'category_name': 'asset management',\n",
       "  'description': 'asset',\n",
       "  'depth': 1,\n",
       "  'parent_id': '759f7d54-b07b-4c94-a83e-75774ee9190e',\n",
       "  'digest': 'e97b0635ae7b4a43f7d7d4a690215e6f'}]"
      ]
     },
     "execution_count": 185,
     "metadata": {},
     "output_type": "execute_result"
    }
   ],
   "source": [
    "cat1.export()"
   ]
  },
  {
   "cell_type": "code",
   "execution_count": 186,
   "metadata": {},
   "outputs": [
    {
     "data": {
      "text/plain": [
       "('759f7d54-b07b-4c94-a83e-75774ee9190e', False)"
      ]
     },
     "execution_count": 186,
     "metadata": {},
     "output_type": "execute_result"
    }
   ],
   "source": [
    "cat1.category_id, cat1.category_id == '270a0747-0427-41dd-83e3-23d2cdf58db2'"
   ]
  },
  {
   "cell_type": "code",
   "execution_count": 187,
   "metadata": {},
   "outputs": [],
   "source": [
    "cat1.search(\"b9c2f26e-171c-47f5-9633-892955df9b00\")"
   ]
  },
  {
   "cell_type": "code",
   "execution_count": 188,
   "metadata": {},
   "outputs": [
    {
     "data": {
      "text/plain": [
       "False"
      ]
     },
     "execution_count": 188,
     "metadata": {},
     "output_type": "execute_result"
    }
   ],
   "source": [
    "cat1.search_by_name(\"incidents\") is None"
   ]
  },
  {
   "cell_type": "code",
   "execution_count": 189,
   "metadata": {},
   "outputs": [
    {
     "name": "stdout",
     "output_type": "stream",
     "text": [
      "2020-04-15 15:56:27.681774:WARN:Node with same name 'incidents' already exist\n",
      "2020-04-15 15:56:27.683880:WARN:Parent Node with id '0000' not found\n"
     ]
    }
   ],
   "source": [
    "cat1.add(\"incidents\")\n",
    "cat1.add(\"test\",\"\",\"0000\")"
   ]
  },
  {
   "cell_type": "code",
   "execution_count": 190,
   "metadata": {},
   "outputs": [
    {
     "name": "stdout",
     "output_type": "stream",
     "text": [
      "2020-04-15 15:56:29.476690:INFO:inside __iter__\n",
      "2020-04-15 15:56:29.477687:INFO:looping child\n",
      "2020-04-15 15:56:29.477687:INFO:inside __iter__\n",
      "2020-04-15 15:56:29.478856:INFO:looping child\n",
      "2020-04-15 15:56:29.478856:INFO:inside __iter__\n",
      "2020-04-15 15:56:29.479855:INFO:looping child\n",
      "2020-04-15 15:56:29.480390:INFO:inside __iter__\n"
     ]
    },
    {
     "data": {
      "text/plain": [
       "[Category: cid:759f7d54-b07b-4c94-a83e-75774ee9190e, name:incidents, hash:347171b02bf61394ae614eb8db9e056c, depth:0,\n",
       " Category: cid:b068ec34-f582-4bbc-bc4d-abf4b46dc1cc, name:user management, hash:78b18b859c1c14fafdfbcae1c6d27052, depth:1,\n",
       " Category: cid:f882d357-abf4-4dd4-84fe-792102e8c80f, name:space management, hash:c6d39d77756b49f989ac40924fc0d6ba, depth:1,\n",
       " Category: cid:22442b4a-14e5-41ec-95ee-e146cba8ab99, name:asset management, hash:e97b0635ae7b4a43f7d7d4a690215e6f, depth:1]"
      ]
     },
     "execution_count": 190,
     "metadata": {},
     "output_type": "execute_result"
    }
   ],
   "source": [
    "[cat for cat in cat1]"
   ]
  },
  {
   "cell_type": "markdown",
   "metadata": {},
   "source": [
    "## Add second level depth categories "
   ]
  },
  {
   "cell_type": "code",
   "execution_count": 191,
   "metadata": {},
   "outputs": [
    {
     "data": {
      "text/plain": [
       "Category: cid:b068ec34-f582-4bbc-bc4d-abf4b46dc1cc, name:user management, hash:78b18b859c1c14fafdfbcae1c6d27052, depth:1"
      ]
     },
     "execution_count": 191,
     "metadata": {},
     "output_type": "execute_result"
    }
   ],
   "source": [
    "cat1.children[0].search_by_name(\"user management\")"
   ]
  },
  {
   "cell_type": "code",
   "execution_count": 192,
   "metadata": {},
   "outputs": [
    {
     "name": "stdout",
     "output_type": "stream",
     "text": [
      "2020-04-15 15:56:36.494096:INFO:Creating child node 'file system','56a28fb5-bd1b-4c51-afed-2899130fd387' with parent 'f882d357-abf4-4dd4-84fe-792102e8c80f'\n",
      "2020-04-15 15:56:36.494096:INFO:Added node 'file system', '56a28fb5-bd1b-4c51-afed-2899130fd387'\n",
      "2020-04-15 15:56:36.494096:INFO:Creating child node 'password','c2f73024-dbae-47b6-89b1-382a8dd1b42d' with parent 'b068ec34-f582-4bbc-bc4d-abf4b46dc1cc'\n",
      "2020-04-15 15:56:36.494096:INFO:Added node 'password', 'c2f73024-dbae-47b6-89b1-382a8dd1b42d'\n",
      "2020-04-15 15:56:36.494096:INFO:Creating child node 'provisionning database','3bd587c3-4c6f-4166-a9bd-592ff23ee3cc' with parent '22442b4a-14e5-41ec-95ee-e146cba8ab99'\n",
      "2020-04-15 15:56:36.497212:INFO:Added node 'provisionning database', '3bd587c3-4c6f-4166-a9bd-592ff23ee3cc'\n",
      "2020-04-15 15:56:36.497876:INFO:Creating child node 'decom database','15db86d6-c0a0-407f-b7ef-2a769f6adbcc' with parent '22442b4a-14e5-41ec-95ee-e146cba8ab99'\n",
      "2020-04-15 15:56:36.497876:INFO:Added node 'decom database', '15db86d6-c0a0-407f-b7ef-2a769f6adbcc'\n"
     ]
    },
    {
     "data": {
      "text/plain": [
       "Category: cid:15db86d6-c0a0-407f-b7ef-2a769f6adbcc, name:decom database, hash:bc3b9809d7ec1d775ba4412fa2f4e92a, depth:2"
      ]
     },
     "execution_count": 192,
     "metadata": {},
     "output_type": "execute_result"
    }
   ],
   "source": [
    "cat1.add(\"file system\", \"FS\", cat1.search_by_name(\"space management\").category_id )\n",
    "cat1.add(\"password\", \"pwd\", cat1.search_by_name(\"user management\").category_id )\n",
    "cat1.add(\"provisionning database\", \"create sqlite\", cat1.search_by_name(\"asset management\").category_id)\n",
    "cat1.add(\"decom database\", \"delete sqlite\", cat1.search_by_name(\"asset management\").category_id)"
   ]
  },
  {
   "cell_type": "code",
   "execution_count": 193,
   "metadata": {},
   "outputs": [
    {
     "name": "stdout",
     "output_type": "stream",
     "text": [
      "2020-04-15 15:56:39.317784:INFO:inside __iter__\n",
      "2020-04-15 15:56:39.318780:INFO:looping child\n",
      "2020-04-15 15:56:39.318780:INFO:inside __iter__\n",
      "2020-04-15 15:56:39.318780:INFO:looping child\n",
      "2020-04-15 15:56:39.318780:INFO:inside __iter__\n",
      "2020-04-15 15:56:39.318780:INFO:looping child\n",
      "2020-04-15 15:56:39.318780:INFO:inside __iter__\n",
      "2020-04-15 15:56:39.319778:INFO:looping child\n",
      "2020-04-15 15:56:39.319778:INFO:inside __iter__\n",
      "2020-04-15 15:56:39.320329:INFO:looping child\n",
      "2020-04-15 15:56:39.320329:INFO:inside __iter__\n",
      "2020-04-15 15:56:39.320329:INFO:looping child\n",
      "2020-04-15 15:56:39.320329:INFO:inside __iter__\n",
      "2020-04-15 15:56:39.320329:INFO:looping child\n",
      "2020-04-15 15:56:39.320329:INFO:inside __iter__\n"
     ]
    },
    {
     "data": {
      "text/plain": [
       "['incidents',\n",
       " 'user management',\n",
       " 'password',\n",
       " 'space management',\n",
       " 'file system',\n",
       " 'asset management',\n",
       " 'provisionning database',\n",
       " 'decom database']"
      ]
     },
     "execution_count": 193,
     "metadata": {},
     "output_type": "execute_result"
    }
   ],
   "source": [
    "[cat.category_name for cat in cat1]"
   ]
  },
  {
   "cell_type": "code",
   "execution_count": 194,
   "metadata": {},
   "outputs": [
    {
     "name": "stdout",
     "output_type": "stream",
     "text": [
      "2020-04-15 15:56:41.547832:INFO:inside __iter__\n",
      "2020-04-15 15:56:41.548816:INFO:looping child\n",
      "2020-04-15 15:56:41.551808:INFO:inside __iter__\n",
      "2020-04-15 15:56:41.551808:INFO:looping child\n",
      "2020-04-15 15:56:41.552805:INFO:inside __iter__\n",
      "2020-04-15 15:56:41.552805:INFO:looping child\n",
      "2020-04-15 15:56:41.553803:INFO:inside __iter__\n",
      "2020-04-15 15:56:41.554333:INFO:looping child\n",
      "2020-04-15 15:56:41.554713:INFO:inside __iter__\n",
      "2020-04-15 15:56:41.554713:INFO:looping child\n",
      "2020-04-15 15:56:41.555715:INFO:inside __iter__\n",
      "2020-04-15 15:56:41.555715:INFO:looping child\n",
      "2020-04-15 15:56:41.556713:INFO:inside __iter__\n",
      "2020-04-15 15:56:41.557709:INFO:looping child\n",
      "2020-04-15 15:56:41.558707:INFO:inside __iter__\n"
     ]
    },
    {
     "data": {
      "text/plain": [
       "[{'category_id': '759f7d54-b07b-4c94-a83e-75774ee9190e',\n",
       "  'category_name': 'incidents',\n",
       "  'description': 'INC for Team',\n",
       "  'depth': 0,\n",
       "  'parent_id': '759f7d54-b07b-4c94-a83e-75774ee9190e',\n",
       "  'digest': '347171b02bf61394ae614eb8db9e056c'},\n",
       " {'category_id': 'b068ec34-f582-4bbc-bc4d-abf4b46dc1cc',\n",
       "  'category_name': 'user management',\n",
       "  'description': 'user',\n",
       "  'depth': 1,\n",
       "  'parent_id': '759f7d54-b07b-4c94-a83e-75774ee9190e',\n",
       "  'digest': '78b18b859c1c14fafdfbcae1c6d27052'},\n",
       " {'category_id': 'c2f73024-dbae-47b6-89b1-382a8dd1b42d',\n",
       "  'category_name': 'password',\n",
       "  'description': 'pwd',\n",
       "  'depth': 2,\n",
       "  'parent_id': 'b068ec34-f582-4bbc-bc4d-abf4b46dc1cc',\n",
       "  'digest': '5f4dcc3b5aa765d61d8327deb882cf99'},\n",
       " {'category_id': 'f882d357-abf4-4dd4-84fe-792102e8c80f',\n",
       "  'category_name': 'space management',\n",
       "  'description': 'space',\n",
       "  'depth': 1,\n",
       "  'parent_id': '759f7d54-b07b-4c94-a83e-75774ee9190e',\n",
       "  'digest': 'c6d39d77756b49f989ac40924fc0d6ba'},\n",
       " {'category_id': '56a28fb5-bd1b-4c51-afed-2899130fd387',\n",
       "  'category_name': 'file system',\n",
       "  'description': 'FS',\n",
       "  'depth': 2,\n",
       "  'parent_id': 'f882d357-abf4-4dd4-84fe-792102e8c80f',\n",
       "  'digest': '42f8980c5d90a5c0881d8b40c5a95ff9'},\n",
       " {'category_id': '22442b4a-14e5-41ec-95ee-e146cba8ab99',\n",
       "  'category_name': 'asset management',\n",
       "  'description': 'asset',\n",
       "  'depth': 1,\n",
       "  'parent_id': '759f7d54-b07b-4c94-a83e-75774ee9190e',\n",
       "  'digest': 'e97b0635ae7b4a43f7d7d4a690215e6f'},\n",
       " {'category_id': '3bd587c3-4c6f-4166-a9bd-592ff23ee3cc',\n",
       "  'category_name': 'provisionning database',\n",
       "  'description': 'create sqlite',\n",
       "  'depth': 2,\n",
       "  'parent_id': '22442b4a-14e5-41ec-95ee-e146cba8ab99',\n",
       "  'digest': '6bed9fb98b276c1f6d942839d98352f2'},\n",
       " {'category_id': '15db86d6-c0a0-407f-b7ef-2a769f6adbcc',\n",
       "  'category_name': 'decom database',\n",
       "  'description': 'delete sqlite',\n",
       "  'depth': 2,\n",
       "  'parent_id': '22442b4a-14e5-41ec-95ee-e146cba8ab99',\n",
       "  'digest': 'bc3b9809d7ec1d775ba4412fa2f4e92a'}]"
      ]
     },
     "execution_count": 194,
     "metadata": {},
     "output_type": "execute_result"
    }
   ],
   "source": [
    "cat1.export()"
   ]
  },
  {
   "cell_type": "code",
   "execution_count": 195,
   "metadata": {},
   "outputs": [
    {
     "name": "stdout",
     "output_type": "stream",
     "text": [
      "2020-04-15 15:57:23.505049:INFO:inside __iter__\n",
      "2020-04-15 15:57:23.507200:INFO:looping child\n",
      "2020-04-15 15:57:23.508196:INFO:inside __iter__\n",
      "2020-04-15 15:57:23.508627:INFO:looping child\n",
      "2020-04-15 15:57:23.509230:INFO:inside __iter__\n",
      "2020-04-15 15:57:23.509230:INFO:looping child\n",
      "2020-04-15 15:57:23.509230:INFO:inside __iter__\n",
      "2020-04-15 15:57:23.509230:INFO:looping child\n",
      "2020-04-15 15:57:23.509230:INFO:inside __iter__\n",
      "2020-04-15 15:57:23.509230:INFO:looping child\n",
      "2020-04-15 15:57:23.509230:INFO:inside __iter__\n",
      "2020-04-15 15:57:23.509230:INFO:looping child\n",
      "2020-04-15 15:57:23.509230:INFO:inside __iter__\n",
      "2020-04-15 15:57:23.509230:INFO:looping child\n",
      "2020-04-15 15:57:23.509230:INFO:inside __iter__\n"
     ]
    },
    {
     "data": {
      "text/plain": [
       "['incidents',\n",
       " 'user management',\n",
       " 'password',\n",
       " 'space management',\n",
       " 'file system',\n",
       " 'asset management',\n",
       " 'provisionning database',\n",
       " 'decom database']"
      ]
     },
     "execution_count": 195,
     "metadata": {},
     "output_type": "execute_result"
    }
   ],
   "source": [
    "[cat.category_name for cat in cat1]"
   ]
  },
  {
   "cell_type": "code",
   "execution_count": 196,
   "metadata": {},
   "outputs": [
    {
     "name": "stdout",
     "output_type": "stream",
     "text": [
      "2020-04-15 15:59:40.291586:WARN:Node with same name 'incidents' already exist\n"
     ]
    }
   ],
   "source": [
    "cat1.add(\"incidents\", parent_name = \"file system\")"
   ]
  },
  {
   "cell_type": "code",
   "execution_count": 197,
   "metadata": {},
   "outputs": [
    {
     "name": "stdout",
     "output_type": "stream",
     "text": [
      "2020-04-15 16:00:03.340939:INFO:Creating child node 'swap','90e2e672-2b92-4c0f-bf2a-706db96b721c' with parent '56a28fb5-bd1b-4c51-afed-2899130fd387'\n",
      "2020-04-15 16:00:03.340939:INFO:Added node 'swap', '90e2e672-2b92-4c0f-bf2a-706db96b721c'\n"
     ]
    },
    {
     "data": {
      "text/plain": [
       "Category: cid:90e2e672-2b92-4c0f-bf2a-706db96b721c, name:swap, hash:f0a1dfdc675b0a14a64099f7ac1cee83, depth:3"
      ]
     },
     "execution_count": 197,
     "metadata": {},
     "output_type": "execute_result"
    }
   ],
   "source": [
    "cat1.add(\"swap\", parent_name = \"file system\")"
   ]
  },
  {
   "cell_type": "code",
   "execution_count": 198,
   "metadata": {},
   "outputs": [
    {
     "name": "stdout",
     "output_type": "stream",
     "text": [
      "2020-04-15 16:00:28.052115:INFO:inside __iter__\n",
      "2020-04-15 16:00:28.052115:INFO:looping child\n",
      "2020-04-15 16:00:28.052115:INFO:inside __iter__\n",
      "2020-04-15 16:00:28.052115:INFO:looping child\n",
      "2020-04-15 16:00:28.053112:INFO:inside __iter__\n",
      "2020-04-15 16:00:28.053112:INFO:looping child\n",
      "2020-04-15 16:00:28.053112:INFO:inside __iter__\n",
      "2020-04-15 16:00:28.053112:INFO:looping child\n",
      "2020-04-15 16:00:28.053112:INFO:inside __iter__\n",
      "2020-04-15 16:00:28.053112:INFO:looping child\n",
      "2020-04-15 16:00:28.053112:INFO:inside __iter__\n",
      "2020-04-15 16:00:28.054108:INFO:looping child\n",
      "2020-04-15 16:00:28.054108:INFO:inside __iter__\n",
      "2020-04-15 16:00:28.054108:INFO:looping child\n",
      "2020-04-15 16:00:28.054108:INFO:inside __iter__\n",
      "2020-04-15 16:00:28.054108:INFO:looping child\n",
      "2020-04-15 16:00:28.054108:INFO:inside __iter__\n"
     ]
    },
    {
     "data": {
      "text/plain": [
       "[Category: cid:759f7d54-b07b-4c94-a83e-75774ee9190e, name:incidents, hash:347171b02bf61394ae614eb8db9e056c, depth:0,\n",
       " Category: cid:b068ec34-f582-4bbc-bc4d-abf4b46dc1cc, name:user management, hash:78b18b859c1c14fafdfbcae1c6d27052, depth:1,\n",
       " Category: cid:c2f73024-dbae-47b6-89b1-382a8dd1b42d, name:password, hash:5f4dcc3b5aa765d61d8327deb882cf99, depth:2,\n",
       " Category: cid:f882d357-abf4-4dd4-84fe-792102e8c80f, name:space management, hash:c6d39d77756b49f989ac40924fc0d6ba, depth:1,\n",
       " Category: cid:56a28fb5-bd1b-4c51-afed-2899130fd387, name:file system, hash:42f8980c5d90a5c0881d8b40c5a95ff9, depth:2,\n",
       " Category: cid:90e2e672-2b92-4c0f-bf2a-706db96b721c, name:swap, hash:f0a1dfdc675b0a14a64099f7ac1cee83, depth:3,\n",
       " Category: cid:22442b4a-14e5-41ec-95ee-e146cba8ab99, name:asset management, hash:e97b0635ae7b4a43f7d7d4a690215e6f, depth:1,\n",
       " Category: cid:3bd587c3-4c6f-4166-a9bd-592ff23ee3cc, name:provisionning database, hash:6bed9fb98b276c1f6d942839d98352f2, depth:2,\n",
       " Category: cid:15db86d6-c0a0-407f-b7ef-2a769f6adbcc, name:decom database, hash:bc3b9809d7ec1d775ba4412fa2f4e92a, depth:2]"
      ]
     },
     "execution_count": 198,
     "metadata": {},
     "output_type": "execute_result"
    }
   ],
   "source": [
    "[cat for cat in cat1 ]"
   ]
  },
  {
   "cell_type": "code",
   "execution_count": null,
   "metadata": {},
   "outputs": [],
   "source": []
  }
 ],
 "metadata": {
  "kernelspec": {
   "display_name": "ds_374",
   "language": "python",
   "name": "ds_374"
  },
  "language_info": {
   "codemirror_mode": {
    "name": "ipython",
    "version": 3
   },
   "file_extension": ".py",
   "mimetype": "text/x-python",
   "name": "python",
   "nbconvert_exporter": "python",
   "pygments_lexer": "ipython3",
   "version": "3.7.4"
  }
 },
 "nbformat": 4,
 "nbformat_minor": 4
}
