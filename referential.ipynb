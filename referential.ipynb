{
 "cells": [
  {
   "cell_type": "code",
   "execution_count": 1,
   "metadata": {},
   "outputs": [],
   "source": [
    "%load_ext autoreload\n",
    "%autoreload 2"
   ]
  },
  {
   "cell_type": "code",
   "execution_count": 2,
   "metadata": {},
   "outputs": [],
   "source": [
    "import os"
   ]
  },
  {
   "cell_type": "code",
   "execution_count": 3,
   "metadata": {},
   "outputs": [],
   "source": [
    "import pandas as pd"
   ]
  },
  {
   "cell_type": "code",
   "execution_count": 4,
   "metadata": {},
   "outputs": [
    {
     "data": {
      "text/html": [
       "<div>\n",
       "<style scoped>\n",
       "    .dataframe tbody tr th:only-of-type {\n",
       "        vertical-align: middle;\n",
       "    }\n",
       "\n",
       "    .dataframe tbody tr th {\n",
       "        vertical-align: top;\n",
       "    }\n",
       "\n",
       "    .dataframe thead th {\n",
       "        text-align: right;\n",
       "    }\n",
       "</style>\n",
       "<table border=\"1\" class=\"dataframe\">\n",
       "  <thead>\n",
       "    <tr style=\"text-align: right;\">\n",
       "      <th></th>\n",
       "      <th>id</th>\n",
       "      <th>summary</th>\n",
       "    </tr>\n",
       "  </thead>\n",
       "  <tbody>\n",
       "    <tr>\n",
       "      <th>0</th>\n",
       "      <td>RITM001</td>\n",
       "      <td>test</td>\n",
       "    </tr>\n",
       "    <tr>\n",
       "      <th>1</th>\n",
       "      <td>RITM002</td>\n",
       "      <td>create account</td>\n",
       "    </tr>\n",
       "    <tr>\n",
       "      <th>2</th>\n",
       "      <td>RITM003</td>\n",
       "      <td>reset password</td>\n",
       "    </tr>\n",
       "    <tr>\n",
       "      <th>3</th>\n",
       "      <td>RITM005</td>\n",
       "      <td>create database</td>\n",
       "    </tr>\n",
       "  </tbody>\n",
       "</table>\n",
       "</div>"
      ],
      "text/plain": [
       "        id          summary\n",
       "0  RITM001             test\n",
       "1  RITM002   create account\n",
       "2  RITM003   reset password\n",
       "3  RITM005  create database"
      ]
     },
     "execution_count": 4,
     "metadata": {},
     "output_type": "execute_result"
    }
   ],
   "source": [
    "pd.DataFrame({\n",
    "    'id': [ \"RITM001\", \"RITM002\", \"RITM003\", \"RITM005\"],\n",
    "    'summary': [\"test\", \"create account\", \"reset password\", \"create database\"]\n",
    "})"
   ]
  },
  {
   "cell_type": "code",
   "execution_count": 6,
   "metadata": {},
   "outputs": [
    {
     "data": {
      "text/plain": [
       "''"
      ]
     },
     "execution_count": 6,
     "metadata": {},
     "output_type": "execute_result"
    }
   ],
   "source": [
    "os.path.dirname(__name__)"
   ]
  },
  {
   "cell_type": "code",
   "execution_count": 7,
   "metadata": {},
   "outputs": [
    {
     "data": {
      "text/plain": [
       "'__main__'"
      ]
     },
     "execution_count": 7,
     "metadata": {},
     "output_type": "execute_result"
    }
   ],
   "source": [
    "__name__"
   ]
  },
  {
   "cell_type": "code",
   "execution_count": 8,
   "metadata": {},
   "outputs": [
    {
     "data": {
      "text/plain": [
       "'D:\\\\Users\\\\valer_r0iadai\\\\OneDrive\\\\projects\\\\projects\\\\referential'"
      ]
     },
     "execution_count": 8,
     "metadata": {},
     "output_type": "execute_result"
    }
   ],
   "source": [
    "os.path.abspath(os.path.dirname(__name__))"
   ]
  },
  {
   "cell_type": "markdown",
   "metadata": {},
   "source": [
    "# Referential and Categories "
   ]
  },
  {
   "cell_type": "code",
   "execution_count": 73,
   "metadata": {},
   "outputs": [],
   "source": [
    "from referential.category import Category"
   ]
  },
  {
   "cell_type": "code",
   "execution_count": 74,
   "metadata": {},
   "outputs": [
    {
     "data": {
      "text/plain": [
       "<User: cid:7eede609-4b61-4a4f-97ac-aaba7d8a81ff, name:space management, hash:c6d39d77756b49f989ac40924fc0d6ba, depth:0>"
      ]
     },
     "execution_count": 74,
     "metadata": {},
     "output_type": "execute_result"
    }
   ],
   "source": [
    "Category(name = \"space management\")"
   ]
  },
  {
   "cell_type": "code",
   "execution_count": 75,
   "metadata": {},
   "outputs": [
    {
     "data": {
      "text/plain": [
       "False"
      ]
     },
     "execution_count": 75,
     "metadata": {},
     "output_type": "execute_result"
    }
   ],
   "source": [
    "cat1 = Category(name = \"space management\", description= \"test space mnt\")\n",
    "cat2 = Category(name = \"space management\")\n",
    "cat1 == cat2"
   ]
  },
  {
   "cell_type": "code",
   "execution_count": 76,
   "metadata": {},
   "outputs": [
    {
     "data": {
      "text/plain": [
       "(True, 'c6d39d77756b49f989ac40924fc0d6ba', 'c6d39d77756b49f989ac40924fc0d6ba')"
      ]
     },
     "execution_count": 76,
     "metadata": {},
     "output_type": "execute_result"
    }
   ],
   "source": [
    "cat1.digest == cat2.digest, cat1.digest, cat2.digest"
   ]
  },
  {
   "cell_type": "code",
   "execution_count": 77,
   "metadata": {},
   "outputs": [
    {
     "data": {
      "text/plain": [
       "(UUID('96b40751-ec0b-4d00-9900-aaa36cfcca76'),\n",
       " UUID('0c040f03-2c50-4d7b-8351-097fcc3b8ef8'))"
      ]
     },
     "execution_count": 77,
     "metadata": {},
     "output_type": "execute_result"
    }
   ],
   "source": [
    "cat1.category_id, cat2.category_id"
   ]
  },
  {
   "cell_type": "code",
   "execution_count": 78,
   "metadata": {},
   "outputs": [
    {
     "data": {
      "text/plain": [
       "'96b40751-ec0b-4d00-9900-aaa36cfcca76'"
      ]
     },
     "execution_count": 78,
     "metadata": {},
     "output_type": "execute_result"
    }
   ],
   "source": [
    "str(cat1.category_id)"
   ]
  },
  {
   "cell_type": "code",
   "execution_count": 79,
   "metadata": {},
   "outputs": [
    {
     "name": "stdout",
     "output_type": "stream",
     "text": [
      "96b40751-ec0b-4d00-9900-aaa36cfcca76;space management;test space mnt;c6d39d77756b49f989ac40924fc0d6ba;0;96b40751-ec0b-4d00-9900-aaa36cfcca76\n"
     ]
    }
   ],
   "source": [
    "cat1.export()"
   ]
  },
  {
   "cell_type": "code",
   "execution_count": 80,
   "metadata": {},
   "outputs": [
    {
     "data": {
      "text/plain": [
       "(UUID('96b40751-ec0b-4d00-9900-aaa36cfcca76'),\n",
       " UUID('96b40751-ec0b-4d00-9900-aaa36cfcca76'))"
      ]
     },
     "execution_count": 80,
     "metadata": {},
     "output_type": "execute_result"
    }
   ],
   "source": [
    "cat1.parent_id, cat1.category_id"
   ]
  },
  {
   "cell_type": "markdown",
   "metadata": {},
   "source": [
    "# Build referential with several layers and nodes"
   ]
  },
  {
   "cell_type": "code",
   "execution_count": 125,
   "metadata": {},
   "outputs": [],
   "source": [
    "cat1 = Category(name = \"indicents\", description= \"INC for Team\")"
   ]
  },
  {
   "cell_type": "code",
   "execution_count": 126,
   "metadata": {},
   "outputs": [],
   "source": [
    "cat1.add(\"user management\", \"user\")\n",
    "cat1.add(\"space management\", \"space\")\n",
    "cat1.add(\"asset management\", \"asset\")"
   ]
  },
  {
   "cell_type": "code",
   "execution_count": 127,
   "metadata": {},
   "outputs": [
    {
     "name": "stdout",
     "output_type": "stream",
     "text": [
      "bc498fcd-29c1-4359-b98a-6d19ab066182;indicents;INC for Team;9a5da2419a287aa383b0ae506487027d;0;bc498fcd-29c1-4359-b98a-6d19ab066182\n",
      "544bcc55-534e-45ed-9c9f-cad78f75087b;user management;user;78b18b859c1c14fafdfbcae1c6d27052;1;bc498fcd-29c1-4359-b98a-6d19ab066182\n",
      "9ac001ff-1104-4bc1-a55c-9bd96bd07673;space management;space;c6d39d77756b49f989ac40924fc0d6ba;1;bc498fcd-29c1-4359-b98a-6d19ab066182\n",
      "33f9ecfe-f1c2-4bce-87ee-64b69b5b3eb3;asset management;asset;e97b0635ae7b4a43f7d7d4a690215e6f;1;bc498fcd-29c1-4359-b98a-6d19ab066182\n"
     ]
    }
   ],
   "source": [
    "cat1.export()"
   ]
  },
  {
   "cell_type": "code",
   "execution_count": 128,
   "metadata": {},
   "outputs": [
    {
     "data": {
      "text/plain": [
       "('bc498fcd-29c1-4359-b98a-6d19ab066182', False)"
      ]
     },
     "execution_count": 128,
     "metadata": {},
     "output_type": "execute_result"
    }
   ],
   "source": [
    "cat1.category_id, cat1.category_id == '270a0747-0427-41dd-83e3-23d2cdf58db2'"
   ]
  },
  {
   "cell_type": "code",
   "execution_count": 122,
   "metadata": {},
   "outputs": [
    {
     "data": {
      "text/plain": [
       "<User: cid:b9c2f26e-171c-47f5-9633-892955df9b00, name:space management, hash:c6d39d77756b49f989ac40924fc0d6ba, depth:-1>"
      ]
     },
     "execution_count": 122,
     "metadata": {},
     "output_type": "execute_result"
    }
   ],
   "source": [
    "cat1.search(\"b9c2f26e-171c-47f5-9633-892955df9b00\")"
   ]
  },
  {
   "cell_type": "code",
   "execution_count": null,
   "metadata": {},
   "outputs": [],
   "source": []
  },
  {
   "cell_type": "code",
   "execution_count": 123,
   "metadata": {},
   "outputs": [],
   "source": [
    "cat1.add(\"file system\", \"FS\", \"b9c2f26e-171c-47f5-9633-892955df9b00\" )\n",
    "cat1.add(\"password\", \"pwd\", \"b5658da8-8eda-4b18-9a62-8ab712dd360c\" )\n",
    "cat1.add(\"provisionning database\", \"create sqlite\", \"033ad421-dbce-4fe6-b58b-8fad9c35d616\")"
   ]
  },
  {
   "cell_type": "code",
   "execution_count": 124,
   "metadata": {},
   "outputs": [
    {
     "name": "stdout",
     "output_type": "stream",
     "text": [
      "270a0747-0427-41dd-83e3-23d2cdf58db2;indicents;INC for Team;9a5da2419a287aa383b0ae506487027d;0;270a0747-0427-41dd-83e3-23d2cdf58db2\n",
      "b5658da8-8eda-4b18-9a62-8ab712dd360c;user management;user;78b18b859c1c14fafdfbcae1c6d27052;-1;270a0747-0427-41dd-83e3-23d2cdf58db2\n",
      "9a04192b-aa8d-43dd-9449-c3c0eb5f8e9a;password;pwd;5f4dcc3b5aa765d61d8327deb882cf99;-1;b5658da8-8eda-4b18-9a62-8ab712dd360c\n",
      "b9c2f26e-171c-47f5-9633-892955df9b00;space management;space;c6d39d77756b49f989ac40924fc0d6ba;-1;270a0747-0427-41dd-83e3-23d2cdf58db2\n",
      "dae77ab0-9fe3-4b5a-9d2b-b2253badc9d7;file system;FS;42f8980c5d90a5c0881d8b40c5a95ff9;-1;b9c2f26e-171c-47f5-9633-892955df9b00\n",
      "033ad421-dbce-4fe6-b58b-8fad9c35d616;asset management;asset;e97b0635ae7b4a43f7d7d4a690215e6f;-1;270a0747-0427-41dd-83e3-23d2cdf58db2\n",
      "901f0718-fb62-452c-a36e-618577eb9b43;provisionning database;create sqlite;6bed9fb98b276c1f6d942839d98352f2;-1;033ad421-dbce-4fe6-b58b-8fad9c35d616\n"
     ]
    }
   ],
   "source": [
    "cat1.export()"
   ]
  },
  {
   "cell_type": "code",
   "execution_count": 117,
   "metadata": {},
   "outputs": [
    {
     "data": {
      "text/plain": [
       "['indicents', 'user management', 'space management', 'asset management']"
      ]
     },
     "execution_count": 117,
     "metadata": {},
     "output_type": "execute_result"
    }
   ],
   "source": [
    "[cat.category_name for cat in cat1]"
   ]
  },
  {
   "cell_type": "code",
   "execution_count": null,
   "metadata": {},
   "outputs": [],
   "source": []
  }
 ],
 "metadata": {
  "kernelspec": {
   "display_name": "ds_374",
   "language": "python",
   "name": "ds_374"
  },
  "language_info": {
   "codemirror_mode": {
    "name": "ipython",
    "version": 3
   },
   "file_extension": ".py",
   "mimetype": "text/x-python",
   "name": "python",
   "nbconvert_exporter": "python",
   "pygments_lexer": "ipython3",
   "version": "3.7.4"
  }
 },
 "nbformat": 4,
 "nbformat_minor": 4
}
