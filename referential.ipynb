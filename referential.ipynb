{
 "cells": [
  {
   "cell_type": "code",
   "execution_count": 1,
   "metadata": {},
   "outputs": [],
   "source": [
    "%load_ext autoreload\n",
    "%autoreload 2"
   ]
  },
  {
   "cell_type": "code",
   "execution_count": 2,
   "metadata": {},
   "outputs": [],
   "source": [
    "import os"
   ]
  },
  {
   "cell_type": "code",
   "execution_count": 3,
   "metadata": {},
   "outputs": [],
   "source": [
    "import pandas as pd"
   ]
  },
  {
   "cell_type": "code",
   "execution_count": 4,
   "metadata": {},
   "outputs": [
    {
     "data": {
      "text/html": [
       "<div>\n",
       "<style scoped>\n",
       "    .dataframe tbody tr th:only-of-type {\n",
       "        vertical-align: middle;\n",
       "    }\n",
       "\n",
       "    .dataframe tbody tr th {\n",
       "        vertical-align: top;\n",
       "    }\n",
       "\n",
       "    .dataframe thead th {\n",
       "        text-align: right;\n",
       "    }\n",
       "</style>\n",
       "<table border=\"1\" class=\"dataframe\">\n",
       "  <thead>\n",
       "    <tr style=\"text-align: right;\">\n",
       "      <th></th>\n",
       "      <th>id</th>\n",
       "      <th>summary</th>\n",
       "    </tr>\n",
       "  </thead>\n",
       "  <tbody>\n",
       "    <tr>\n",
       "      <th>0</th>\n",
       "      <td>RITM001</td>\n",
       "      <td>test</td>\n",
       "    </tr>\n",
       "    <tr>\n",
       "      <th>1</th>\n",
       "      <td>RITM002</td>\n",
       "      <td>create account</td>\n",
       "    </tr>\n",
       "    <tr>\n",
       "      <th>2</th>\n",
       "      <td>RITM003</td>\n",
       "      <td>reset password</td>\n",
       "    </tr>\n",
       "    <tr>\n",
       "      <th>3</th>\n",
       "      <td>RITM005</td>\n",
       "      <td>create database</td>\n",
       "    </tr>\n",
       "  </tbody>\n",
       "</table>\n",
       "</div>"
      ],
      "text/plain": [
       "        id          summary\n",
       "0  RITM001             test\n",
       "1  RITM002   create account\n",
       "2  RITM003   reset password\n",
       "3  RITM005  create database"
      ]
     },
     "execution_count": 4,
     "metadata": {},
     "output_type": "execute_result"
    }
   ],
   "source": [
    "pd.DataFrame({\n",
    "    'id': [ \"RITM001\", \"RITM002\", \"RITM003\", \"RITM005\"],\n",
    "    'summary': [\"test\", \"create account\", \"reset password\", \"create database\"]\n",
    "})"
   ]
  },
  {
   "cell_type": "code",
   "execution_count": 5,
   "metadata": {},
   "outputs": [
    {
     "data": {
      "text/plain": [
       "''"
      ]
     },
     "execution_count": 5,
     "metadata": {},
     "output_type": "execute_result"
    }
   ],
   "source": [
    "os.path.dirname(__name__)"
   ]
  },
  {
   "cell_type": "code",
   "execution_count": 6,
   "metadata": {},
   "outputs": [
    {
     "data": {
      "text/plain": [
       "'__main__'"
      ]
     },
     "execution_count": 6,
     "metadata": {},
     "output_type": "execute_result"
    }
   ],
   "source": [
    "__name__"
   ]
  },
  {
   "cell_type": "code",
   "execution_count": 7,
   "metadata": {},
   "outputs": [
    {
     "data": {
      "text/plain": [
       "'D:\\\\Users\\\\valer_r0iadai\\\\OneDrive\\\\projects\\\\projects\\\\referential'"
      ]
     },
     "execution_count": 7,
     "metadata": {},
     "output_type": "execute_result"
    }
   ],
   "source": [
    "os.path.abspath(os.path.dirname(__name__))"
   ]
  },
  {
   "cell_type": "markdown",
   "metadata": {},
   "source": [
    "# Referential and Categories "
   ]
  },
  {
   "cell_type": "code",
   "execution_count": 98,
   "metadata": {},
   "outputs": [],
   "source": [
    "from referential.category import Category"
   ]
  },
  {
   "cell_type": "code",
   "execution_count": 99,
   "metadata": {},
   "outputs": [
    {
     "name": "stdout",
     "output_type": "stream",
     "text": [
      "2020-04-15 12:09:51.618668:INFO:Creating root node 'space management','574ad643-021e-4a5c-a7f4-cdb9f3a70682'\n"
     ]
    },
    {
     "data": {
      "text/plain": [
       "Category: cid:574ad643-021e-4a5c-a7f4-cdb9f3a70682, name:space management, hash:c6d39d77756b49f989ac40924fc0d6ba, depth:0"
      ]
     },
     "execution_count": 99,
     "metadata": {},
     "output_type": "execute_result"
    }
   ],
   "source": [
    "Category(name = \"space management\")"
   ]
  },
  {
   "cell_type": "code",
   "execution_count": 100,
   "metadata": {},
   "outputs": [
    {
     "name": "stdout",
     "output_type": "stream",
     "text": [
      "2020-04-15 12:09:53.005738:INFO:Creating root node 'space management','0f959746-65a2-4791-8e2a-30ac3d7eeac3'\n",
      "2020-04-15 12:09:53.005738:INFO:Creating root node 'space management','ae7f56f2-a87a-4389-aceb-1b30ada017c2'\n"
     ]
    },
    {
     "data": {
      "text/plain": [
       "False"
      ]
     },
     "execution_count": 100,
     "metadata": {},
     "output_type": "execute_result"
    }
   ],
   "source": [
    "cat1 = Category(name = \"space management\", description= \"test space mnt\")\n",
    "cat2 = Category(name = \"space management\")\n",
    "cat1 == cat2"
   ]
  },
  {
   "cell_type": "code",
   "execution_count": 101,
   "metadata": {},
   "outputs": [
    {
     "data": {
      "text/plain": [
       "(True, 'c6d39d77756b49f989ac40924fc0d6ba', 'c6d39d77756b49f989ac40924fc0d6ba')"
      ]
     },
     "execution_count": 101,
     "metadata": {},
     "output_type": "execute_result"
    }
   ],
   "source": [
    "cat1.digest == cat2.digest, cat1.digest, cat2.digest"
   ]
  },
  {
   "cell_type": "code",
   "execution_count": 102,
   "metadata": {},
   "outputs": [
    {
     "data": {
      "text/plain": [
       "('0f959746-65a2-4791-8e2a-30ac3d7eeac3',\n",
       " 'ae7f56f2-a87a-4389-aceb-1b30ada017c2')"
      ]
     },
     "execution_count": 102,
     "metadata": {},
     "output_type": "execute_result"
    }
   ],
   "source": [
    "cat1.category_id, cat2.category_id"
   ]
  },
  {
   "cell_type": "code",
   "execution_count": 103,
   "metadata": {},
   "outputs": [
    {
     "data": {
      "text/plain": [
       "'0f959746-65a2-4791-8e2a-30ac3d7eeac3'"
      ]
     },
     "execution_count": 103,
     "metadata": {},
     "output_type": "execute_result"
    }
   ],
   "source": [
    "str(cat1.category_id)"
   ]
  },
  {
   "cell_type": "code",
   "execution_count": 104,
   "metadata": {},
   "outputs": [
    {
     "data": {
      "text/plain": [
       "[{'category_id': '0f959746-65a2-4791-8e2a-30ac3d7eeac3',\n",
       "  'category_name': 'space management',\n",
       "  'description': 'test space mnt',\n",
       "  'depth': 0,\n",
       "  'parent_id': '0f959746-65a2-4791-8e2a-30ac3d7eeac3'}]"
      ]
     },
     "execution_count": 104,
     "metadata": {},
     "output_type": "execute_result"
    }
   ],
   "source": [
    "cat1.export()"
   ]
  },
  {
   "cell_type": "code",
   "execution_count": 15,
   "metadata": {},
   "outputs": [
    {
     "data": {
      "text/plain": [
       "('32b5b09d-d43c-4b02-b5e5-7c9a3a2fd495',\n",
       " '32b5b09d-d43c-4b02-b5e5-7c9a3a2fd495')"
      ]
     },
     "execution_count": 15,
     "metadata": {},
     "output_type": "execute_result"
    }
   ],
   "source": [
    "cat1.parent_id, cat1.category_id"
   ]
  },
  {
   "cell_type": "markdown",
   "metadata": {},
   "source": [
    "# Build referential with several layers and nodes"
   ]
  },
  {
   "cell_type": "code",
   "execution_count": 165,
   "metadata": {},
   "outputs": [
    {
     "data": {
      "text/plain": [
       "[1, 3, 7]"
      ]
     },
     "execution_count": 165,
     "metadata": {},
     "output_type": "execute_result"
    }
   ],
   "source": [
    "list(num for num in [1, 3, 7].__iter__())"
   ]
  },
  {
   "cell_type": "code",
   "execution_count": 166,
   "metadata": {},
   "outputs": [],
   "source": [
    "from referential.category import Category"
   ]
  },
  {
   "cell_type": "code",
   "execution_count": 167,
   "metadata": {},
   "outputs": [
    {
     "name": "stdout",
     "output_type": "stream",
     "text": [
      "2020-04-15 12:57:59.924970:INFO:Creating root node 'incidents','32bf8a5a-e1bb-4183-a783-ecc464910492'\n"
     ]
    }
   ],
   "source": [
    "cat1 = Category(name = \"incidents\", description= \"INC for Team\")"
   ]
  },
  {
   "cell_type": "code",
   "execution_count": 168,
   "metadata": {},
   "outputs": [
    {
     "name": "stdout",
     "output_type": "stream",
     "text": [
      "2020-04-15 12:58:00.411202:INFO:Creating child node 'user management','8411a8ee-870a-4e66-927d-a8d1023b59b3' with parent '32bf8a5a-e1bb-4183-a783-ecc464910492'\n",
      "2020-04-15 12:58:00.411633:INFO:Added node 'user management', '8411a8ee-870a-4e66-927d-a8d1023b59b3'\n",
      "2020-04-15 12:58:00.411633:INFO:Creating child node 'space management','804fce7f-5cbd-4507-9236-64721ffa8724' with parent '32bf8a5a-e1bb-4183-a783-ecc464910492'\n",
      "2020-04-15 12:58:00.411633:INFO:Added node 'space management', '804fce7f-5cbd-4507-9236-64721ffa8724'\n",
      "2020-04-15 12:58:00.411633:INFO:Creating child node 'asset management','057c941a-77df-48d1-b8a4-aba70167fb54' with parent '32bf8a5a-e1bb-4183-a783-ecc464910492'\n",
      "2020-04-15 12:58:00.411633:INFO:Added node 'asset management', '057c941a-77df-48d1-b8a4-aba70167fb54'\n"
     ]
    },
    {
     "data": {
      "text/plain": [
       "Category: cid:057c941a-77df-48d1-b8a4-aba70167fb54, name:asset management, hash:e97b0635ae7b4a43f7d7d4a690215e6f, depth:1"
      ]
     },
     "execution_count": 168,
     "metadata": {},
     "output_type": "execute_result"
    }
   ],
   "source": [
    "cat1.add(\"user management\", \"user\")\n",
    "cat1.add(\"space management\", \"space\")\n",
    "cat1.add(\"asset management\", \"asset\")"
   ]
  },
  {
   "cell_type": "code",
   "execution_count": 169,
   "metadata": {},
   "outputs": [
    {
     "name": "stdout",
     "output_type": "stream",
     "text": [
      "2020-04-15 12:58:04.890207:INFO:inside __iter__\n",
      "2020-04-15 12:58:04.890207:INFO:looping child\n",
      "2020-04-15 12:58:04.890207:INFO:inside __iter__\n",
      "2020-04-15 12:58:04.890207:INFO:looping child\n",
      "2020-04-15 12:58:04.890207:INFO:inside __iter__\n",
      "2020-04-15 12:58:04.890207:INFO:looping child\n",
      "2020-04-15 12:58:04.890207:INFO:inside __iter__\n"
     ]
    },
    {
     "data": {
      "text/plain": [
       "[Category: cid:32bf8a5a-e1bb-4183-a783-ecc464910492, name:incidents, hash:347171b02bf61394ae614eb8db9e056c, depth:0,\n",
       " Category: cid:8411a8ee-870a-4e66-927d-a8d1023b59b3, name:user management, hash:78b18b859c1c14fafdfbcae1c6d27052, depth:1,\n",
       " Category: cid:804fce7f-5cbd-4507-9236-64721ffa8724, name:space management, hash:c6d39d77756b49f989ac40924fc0d6ba, depth:1,\n",
       " Category: cid:057c941a-77df-48d1-b8a4-aba70167fb54, name:asset management, hash:e97b0635ae7b4a43f7d7d4a690215e6f, depth:1]"
      ]
     },
     "execution_count": 169,
     "metadata": {},
     "output_type": "execute_result"
    }
   ],
   "source": [
    "[cat for cat in cat1]"
   ]
  },
  {
   "cell_type": "code",
   "execution_count": 170,
   "metadata": {},
   "outputs": [
    {
     "name": "stdout",
     "output_type": "stream",
     "text": [
      "2020-04-15 12:58:10.687860:INFO:inside __iter__\n",
      "2020-04-15 12:58:10.688967:INFO:looping child\n",
      "2020-04-15 12:58:10.689160:INFO:inside __iter__\n",
      "2020-04-15 12:58:10.689160:INFO:looping child\n",
      "2020-04-15 12:58:10.689160:INFO:inside __iter__\n",
      "2020-04-15 12:58:10.689160:INFO:looping child\n",
      "2020-04-15 12:58:10.689160:INFO:inside __iter__\n"
     ]
    },
    {
     "data": {
      "text/plain": [
       "[{'category_id': '32bf8a5a-e1bb-4183-a783-ecc464910492',\n",
       "  'category_name': 'incidents',\n",
       "  'description': 'INC for Team',\n",
       "  'depth': 0,\n",
       "  'parent_id': '32bf8a5a-e1bb-4183-a783-ecc464910492',\n",
       "  'digest': '347171b02bf61394ae614eb8db9e056c'},\n",
       " {'category_id': '8411a8ee-870a-4e66-927d-a8d1023b59b3',\n",
       "  'category_name': 'user management',\n",
       "  'description': 'user',\n",
       "  'depth': 1,\n",
       "  'parent_id': '32bf8a5a-e1bb-4183-a783-ecc464910492',\n",
       "  'digest': '78b18b859c1c14fafdfbcae1c6d27052'},\n",
       " {'category_id': '804fce7f-5cbd-4507-9236-64721ffa8724',\n",
       "  'category_name': 'space management',\n",
       "  'description': 'space',\n",
       "  'depth': 1,\n",
       "  'parent_id': '32bf8a5a-e1bb-4183-a783-ecc464910492',\n",
       "  'digest': 'c6d39d77756b49f989ac40924fc0d6ba'},\n",
       " {'category_id': '057c941a-77df-48d1-b8a4-aba70167fb54',\n",
       "  'category_name': 'asset management',\n",
       "  'description': 'asset',\n",
       "  'depth': 1,\n",
       "  'parent_id': '32bf8a5a-e1bb-4183-a783-ecc464910492',\n",
       "  'digest': 'e97b0635ae7b4a43f7d7d4a690215e6f'}]"
      ]
     },
     "execution_count": 170,
     "metadata": {},
     "output_type": "execute_result"
    }
   ],
   "source": [
    "cat1.export()"
   ]
  },
  {
   "cell_type": "code",
   "execution_count": 171,
   "metadata": {},
   "outputs": [
    {
     "data": {
      "text/plain": [
       "('32bf8a5a-e1bb-4183-a783-ecc464910492', False)"
      ]
     },
     "execution_count": 171,
     "metadata": {},
     "output_type": "execute_result"
    }
   ],
   "source": [
    "cat1.category_id, cat1.category_id == '270a0747-0427-41dd-83e3-23d2cdf58db2'"
   ]
  },
  {
   "cell_type": "code",
   "execution_count": 172,
   "metadata": {},
   "outputs": [],
   "source": [
    "cat1.search(\"b9c2f26e-171c-47f5-9633-892955df9b00\")"
   ]
  },
  {
   "cell_type": "code",
   "execution_count": 173,
   "metadata": {},
   "outputs": [
    {
     "data": {
      "text/plain": [
       "False"
      ]
     },
     "execution_count": 173,
     "metadata": {},
     "output_type": "execute_result"
    }
   ],
   "source": [
    "cat1.search_by_name(\"incidents\") is None"
   ]
  },
  {
   "cell_type": "code",
   "execution_count": 174,
   "metadata": {},
   "outputs": [
    {
     "name": "stdout",
     "output_type": "stream",
     "text": [
      "2020-04-15 12:58:14.444454:WARN:Node with same name 'incidents' already exist\n",
      "2020-04-15 12:58:14.445422:WARN:Parent Node with id '0000' not found\n"
     ]
    }
   ],
   "source": [
    "cat1.add(\"incidents\")\n",
    "cat1.add(\"test\",\"\",\"0000\")"
   ]
  },
  {
   "cell_type": "code",
   "execution_count": 175,
   "metadata": {},
   "outputs": [
    {
     "name": "stdout",
     "output_type": "stream",
     "text": [
      "2020-04-15 12:58:14.853542:INFO:inside __iter__\n",
      "2020-04-15 12:58:14.853542:INFO:looping child\n",
      "2020-04-15 12:58:14.853542:INFO:inside __iter__\n",
      "2020-04-15 12:58:14.853542:INFO:looping child\n",
      "2020-04-15 12:58:14.853542:INFO:inside __iter__\n",
      "2020-04-15 12:58:14.853542:INFO:looping child\n",
      "2020-04-15 12:58:14.853542:INFO:inside __iter__\n"
     ]
    },
    {
     "data": {
      "text/plain": [
       "[Category: cid:32bf8a5a-e1bb-4183-a783-ecc464910492, name:incidents, hash:347171b02bf61394ae614eb8db9e056c, depth:0,\n",
       " Category: cid:8411a8ee-870a-4e66-927d-a8d1023b59b3, name:user management, hash:78b18b859c1c14fafdfbcae1c6d27052, depth:1,\n",
       " Category: cid:804fce7f-5cbd-4507-9236-64721ffa8724, name:space management, hash:c6d39d77756b49f989ac40924fc0d6ba, depth:1,\n",
       " Category: cid:057c941a-77df-48d1-b8a4-aba70167fb54, name:asset management, hash:e97b0635ae7b4a43f7d7d4a690215e6f, depth:1]"
      ]
     },
     "execution_count": 175,
     "metadata": {},
     "output_type": "execute_result"
    }
   ],
   "source": [
    "[cat for cat in cat1]"
   ]
  },
  {
   "cell_type": "markdown",
   "metadata": {},
   "source": [
    "## Add second level depth categories "
   ]
  },
  {
   "cell_type": "code",
   "execution_count": 176,
   "metadata": {},
   "outputs": [
    {
     "data": {
      "text/plain": [
       "Category: cid:8411a8ee-870a-4e66-927d-a8d1023b59b3, name:user management, hash:78b18b859c1c14fafdfbcae1c6d27052, depth:1"
      ]
     },
     "execution_count": 176,
     "metadata": {},
     "output_type": "execute_result"
    }
   ],
   "source": [
    "cat1.children[0].search_by_name(\"user management\")"
   ]
  },
  {
   "cell_type": "code",
   "execution_count": 177,
   "metadata": {},
   "outputs": [
    {
     "name": "stdout",
     "output_type": "stream",
     "text": [
      "2020-04-15 12:58:24.568111:INFO:Creating child node 'file system','9ea4a7bb-f3d6-434e-a108-ec3da76ce1d6' with parent '804fce7f-5cbd-4507-9236-64721ffa8724'\n",
      "2020-04-15 12:58:24.569129:INFO:Added node 'file system', '9ea4a7bb-f3d6-434e-a108-ec3da76ce1d6'\n",
      "2020-04-15 12:58:24.569198:INFO:Creating child node 'password','55ea07c8-6cd2-4a80-9274-68ccf271bca9' with parent '8411a8ee-870a-4e66-927d-a8d1023b59b3'\n",
      "2020-04-15 12:58:24.569198:INFO:Added node 'password', '55ea07c8-6cd2-4a80-9274-68ccf271bca9'\n",
      "2020-04-15 12:58:24.569198:INFO:Creating child node 'provisionning database','9dc6d4f0-e2ce-41c5-b424-9741837d0bff' with parent '057c941a-77df-48d1-b8a4-aba70167fb54'\n",
      "2020-04-15 12:58:24.569198:INFO:Added node 'provisionning database', '9dc6d4f0-e2ce-41c5-b424-9741837d0bff'\n",
      "2020-04-15 12:58:24.569198:INFO:Creating child node 'decom database','3c497f2c-4656-4744-bbf8-9ffb478863ee' with parent '057c941a-77df-48d1-b8a4-aba70167fb54'\n",
      "2020-04-15 12:58:24.569198:INFO:Added node 'decom database', '3c497f2c-4656-4744-bbf8-9ffb478863ee'\n"
     ]
    },
    {
     "data": {
      "text/plain": [
       "Category: cid:3c497f2c-4656-4744-bbf8-9ffb478863ee, name:decom database, hash:bc3b9809d7ec1d775ba4412fa2f4e92a, depth:2"
      ]
     },
     "execution_count": 177,
     "metadata": {},
     "output_type": "execute_result"
    }
   ],
   "source": [
    "cat1.add(\"file system\", \"FS\", cat1.search_by_name(\"space management\").category_id )\n",
    "cat1.add(\"password\", \"pwd\", cat1.search_by_name(\"user management\").category_id )\n",
    "cat1.add(\"provisionning database\", \"create sqlite\", cat1.search_by_name(\"asset management\").category_id)\n",
    "cat1.add(\"decom database\", \"delete sqlite\", cat1.search_by_name(\"asset management\").category_id)"
   ]
  },
  {
   "cell_type": "code",
   "execution_count": 178,
   "metadata": {},
   "outputs": [
    {
     "name": "stdout",
     "output_type": "stream",
     "text": [
      "2020-04-15 12:58:33.408851:INFO:inside __iter__\n",
      "2020-04-15 12:58:33.408851:INFO:looping child\n",
      "2020-04-15 12:58:33.408851:INFO:inside __iter__\n",
      "2020-04-15 12:58:33.408851:INFO:looping child\n",
      "2020-04-15 12:58:33.408851:INFO:inside __iter__\n",
      "2020-04-15 12:58:33.408851:INFO:looping child\n",
      "2020-04-15 12:58:33.408851:INFO:inside __iter__\n",
      "2020-04-15 12:58:33.408851:INFO:looping child\n",
      "2020-04-15 12:58:33.408851:INFO:inside __iter__\n",
      "2020-04-15 12:58:33.408851:INFO:looping child\n",
      "2020-04-15 12:58:33.408851:INFO:inside __iter__\n",
      "2020-04-15 12:58:33.408851:INFO:looping child\n",
      "2020-04-15 12:58:33.408851:INFO:inside __iter__\n",
      "2020-04-15 12:58:33.408851:INFO:looping child\n",
      "2020-04-15 12:58:33.408851:INFO:inside __iter__\n"
     ]
    },
    {
     "data": {
      "text/plain": [
       "['incidents',\n",
       " 'user management',\n",
       " 'password',\n",
       " 'space management',\n",
       " 'file system',\n",
       " 'asset management',\n",
       " 'provisionning database',\n",
       " 'decom database']"
      ]
     },
     "execution_count": 178,
     "metadata": {},
     "output_type": "execute_result"
    }
   ],
   "source": [
    "[cat.category_name for cat in cat1]"
   ]
  },
  {
   "cell_type": "code",
   "execution_count": 179,
   "metadata": {},
   "outputs": [
    {
     "name": "stdout",
     "output_type": "stream",
     "text": [
      "2020-04-15 12:58:38.388449:INFO:inside __iter__\n",
      "2020-04-15 12:58:38.388449:INFO:looping child\n",
      "2020-04-15 12:58:38.388449:INFO:inside __iter__\n",
      "2020-04-15 12:58:38.388449:INFO:looping child\n",
      "2020-04-15 12:58:38.388449:INFO:inside __iter__\n",
      "2020-04-15 12:58:38.388449:INFO:looping child\n",
      "2020-04-15 12:58:38.388449:INFO:inside __iter__\n",
      "2020-04-15 12:58:38.388449:INFO:looping child\n",
      "2020-04-15 12:58:38.388449:INFO:inside __iter__\n",
      "2020-04-15 12:58:38.388449:INFO:looping child\n",
      "2020-04-15 12:58:38.388449:INFO:inside __iter__\n",
      "2020-04-15 12:58:38.388449:INFO:looping child\n",
      "2020-04-15 12:58:38.388449:INFO:inside __iter__\n",
      "2020-04-15 12:58:38.388449:INFO:looping child\n",
      "2020-04-15 12:58:38.388449:INFO:inside __iter__\n"
     ]
    },
    {
     "data": {
      "text/plain": [
       "[{'category_id': '32bf8a5a-e1bb-4183-a783-ecc464910492',\n",
       "  'category_name': 'incidents',\n",
       "  'description': 'INC for Team',\n",
       "  'depth': 0,\n",
       "  'parent_id': '32bf8a5a-e1bb-4183-a783-ecc464910492',\n",
       "  'digest': '347171b02bf61394ae614eb8db9e056c'},\n",
       " {'category_id': '8411a8ee-870a-4e66-927d-a8d1023b59b3',\n",
       "  'category_name': 'user management',\n",
       "  'description': 'user',\n",
       "  'depth': 1,\n",
       "  'parent_id': '32bf8a5a-e1bb-4183-a783-ecc464910492',\n",
       "  'digest': '78b18b859c1c14fafdfbcae1c6d27052'},\n",
       " {'category_id': '55ea07c8-6cd2-4a80-9274-68ccf271bca9',\n",
       "  'category_name': 'password',\n",
       "  'description': 'pwd',\n",
       "  'depth': 2,\n",
       "  'parent_id': '8411a8ee-870a-4e66-927d-a8d1023b59b3',\n",
       "  'digest': '5f4dcc3b5aa765d61d8327deb882cf99'},\n",
       " {'category_id': '804fce7f-5cbd-4507-9236-64721ffa8724',\n",
       "  'category_name': 'space management',\n",
       "  'description': 'space',\n",
       "  'depth': 1,\n",
       "  'parent_id': '32bf8a5a-e1bb-4183-a783-ecc464910492',\n",
       "  'digest': 'c6d39d77756b49f989ac40924fc0d6ba'},\n",
       " {'category_id': '9ea4a7bb-f3d6-434e-a108-ec3da76ce1d6',\n",
       "  'category_name': 'file system',\n",
       "  'description': 'FS',\n",
       "  'depth': 2,\n",
       "  'parent_id': '804fce7f-5cbd-4507-9236-64721ffa8724',\n",
       "  'digest': '42f8980c5d90a5c0881d8b40c5a95ff9'},\n",
       " {'category_id': '057c941a-77df-48d1-b8a4-aba70167fb54',\n",
       "  'category_name': 'asset management',\n",
       "  'description': 'asset',\n",
       "  'depth': 1,\n",
       "  'parent_id': '32bf8a5a-e1bb-4183-a783-ecc464910492',\n",
       "  'digest': 'e97b0635ae7b4a43f7d7d4a690215e6f'},\n",
       " {'category_id': '9dc6d4f0-e2ce-41c5-b424-9741837d0bff',\n",
       "  'category_name': 'provisionning database',\n",
       "  'description': 'create sqlite',\n",
       "  'depth': 2,\n",
       "  'parent_id': '057c941a-77df-48d1-b8a4-aba70167fb54',\n",
       "  'digest': '6bed9fb98b276c1f6d942839d98352f2'},\n",
       " {'category_id': '3c497f2c-4656-4744-bbf8-9ffb478863ee',\n",
       "  'category_name': 'decom database',\n",
       "  'description': 'delete sqlite',\n",
       "  'depth': 2,\n",
       "  'parent_id': '057c941a-77df-48d1-b8a4-aba70167fb54',\n",
       "  'digest': 'bc3b9809d7ec1d775ba4412fa2f4e92a'}]"
      ]
     },
     "execution_count": 179,
     "metadata": {},
     "output_type": "execute_result"
    }
   ],
   "source": [
    "cat1.export()"
   ]
  },
  {
   "cell_type": "code",
   "execution_count": 138,
   "metadata": {},
   "outputs": [
    {
     "data": {
      "text/plain": [
       "['incidents']"
      ]
     },
     "execution_count": 138,
     "metadata": {},
     "output_type": "execute_result"
    }
   ],
   "source": [
    "[cat.category_name for cat in cat1]"
   ]
  },
  {
   "cell_type": "code",
   "execution_count": null,
   "metadata": {},
   "outputs": [],
   "source": []
  }
 ],
 "metadata": {
  "kernelspec": {
   "display_name": "ds_374",
   "language": "python",
   "name": "ds_374"
  },
  "language_info": {
   "codemirror_mode": {
    "name": "ipython",
    "version": 3
   },
   "file_extension": ".py",
   "mimetype": "text/x-python",
   "name": "python",
   "nbconvert_exporter": "python",
   "pygments_lexer": "ipython3",
   "version": "3.7.4"
  }
 },
 "nbformat": 4,
 "nbformat_minor": 4
}
